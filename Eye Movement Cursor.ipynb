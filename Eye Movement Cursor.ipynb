{
 "cells": [
  {
   "cell_type": "code",
   "execution_count": 1,
   "id": "b4cd747f",
   "metadata": {},
   "outputs": [
    {
     "name": "stdout",
     "output_type": "stream",
     "text": [
      "Requirement already satisfied: opencv-contrib-python in c:\\users\\lenovo\\appdata\\roaming\\python\\python39\\site-packages (4.9.0.80)\n",
      "Requirement already satisfied: mediapipe in c:\\users\\lenovo\\appdata\\roaming\\python\\python39\\site-packages (0.10.11)\n",
      "Requirement already satisfied: pyautogui in c:\\users\\lenovo\\appdata\\roaming\\python\\python39\\site-packages (0.9.54)\n",
      "Requirement already satisfied: numpy>=1.17.0 in c:\\users\\lenovo\\anaconda3\\anaconda\\lib\\site-packages (from opencv-contrib-python) (1.24.4)\n",
      "Requirement already satisfied: sounddevice>=0.4.4 in c:\\users\\lenovo\\appdata\\roaming\\python\\python39\\site-packages (from mediapipe) (0.4.6)\n",
      "Requirement already satisfied: flatbuffers>=2.0 in c:\\users\\lenovo\\anaconda3\\anaconda\\lib\\site-packages (from mediapipe) (24.3.25)\n",
      "Requirement already satisfied: attrs>=19.1.0 in c:\\users\\lenovo\\anaconda3\\anaconda\\lib\\site-packages (from mediapipe) (21.4.0)\n",
      "Requirement already satisfied: protobuf<4,>=3.11 in c:\\users\\lenovo\\anaconda3\\anaconda\\lib\\site-packages (from mediapipe) (3.20.3)\n",
      "Requirement already satisfied: matplotlib in c:\\users\\lenovo\\anaconda3\\anaconda\\lib\\site-packages (from mediapipe) (3.5.2)\n",
      "Requirement already satisfied: jax in c:\\users\\lenovo\\appdata\\roaming\\python\\python39\\site-packages (from mediapipe) (0.4.26)\n",
      "Requirement already satisfied: absl-py in c:\\users\\lenovo\\appdata\\roaming\\python\\python39\\site-packages (from mediapipe) (2.1.0)\n",
      "Requirement already satisfied: mouseinfo in c:\\users\\lenovo\\appdata\\roaming\\python\\python39\\site-packages (from pyautogui) (0.1.3)\n",
      "Requirement already satisfied: pygetwindow>=0.0.5 in c:\\users\\lenovo\\anaconda3\\anaconda\\lib\\site-packages (from pyautogui) (0.0.9)\n",
      "Requirement already satisfied: pytweening>=1.0.4 in c:\\users\\lenovo\\anaconda3\\anaconda\\lib\\site-packages (from pyautogui) (1.2.0)\n",
      "Requirement already satisfied: pymsgbox in c:\\users\\lenovo\\anaconda3\\anaconda\\lib\\site-packages (from pyautogui) (1.0.9)\n",
      "Requirement already satisfied: pyscreeze>=0.1.21 in c:\\users\\lenovo\\anaconda3\\anaconda\\lib\\site-packages (from pyautogui) (0.1.30)\n",
      "Requirement already satisfied: pyrect in c:\\users\\lenovo\\anaconda3\\anaconda\\lib\\site-packages (from pygetwindow>=0.0.5->pyautogui) (0.2.0)\n",
      "Requirement already satisfied: Pillow>=9.2.0 in c:\\users\\lenovo\\anaconda3\\anaconda\\lib\\site-packages (from pyscreeze>=0.1.21->pyautogui) (9.2.0)\n",
      "Requirement already satisfied: CFFI>=1.0 in c:\\users\\lenovo\\anaconda3\\anaconda\\lib\\site-packages (from sounddevice>=0.4.4->mediapipe) (1.15.1)\n",
      "Requirement already satisfied: importlib-metadata>=4.6 in c:\\users\\lenovo\\anaconda3\\anaconda\\lib\\site-packages (from jax->mediapipe) (4.11.3)\n",
      "Requirement already satisfied: opt-einsum in c:\\users\\lenovo\\appdata\\roaming\\python\\python39\\site-packages (from jax->mediapipe) (3.3.0)\n",
      "Requirement already satisfied: scipy>=1.9 in c:\\users\\lenovo\\anaconda3\\anaconda\\lib\\site-packages (from jax->mediapipe) (1.9.1)\n",
      "Requirement already satisfied: ml-dtypes>=0.2.0 in c:\\users\\lenovo\\appdata\\roaming\\python\\python39\\site-packages (from jax->mediapipe) (0.4.0)\n",
      "Requirement already satisfied: fonttools>=4.22.0 in c:\\users\\lenovo\\anaconda3\\anaconda\\lib\\site-packages (from matplotlib->mediapipe) (4.25.0)\n",
      "Requirement already satisfied: python-dateutil>=2.7 in c:\\users\\lenovo\\anaconda3\\anaconda\\lib\\site-packages (from matplotlib->mediapipe) (2.8.2)\n",
      "Requirement already satisfied: packaging>=20.0 in c:\\users\\lenovo\\anaconda3\\anaconda\\lib\\site-packages (from matplotlib->mediapipe) (21.3)\n",
      "Requirement already satisfied: pyparsing>=2.2.1 in c:\\users\\lenovo\\anaconda3\\anaconda\\lib\\site-packages (from matplotlib->mediapipe) (3.0.9)\n",
      "Requirement already satisfied: cycler>=0.10 in c:\\users\\lenovo\\anaconda3\\anaconda\\lib\\site-packages (from matplotlib->mediapipe) (0.11.0)\n",
      "Requirement already satisfied: kiwisolver>=1.0.1 in c:\\users\\lenovo\\anaconda3\\anaconda\\lib\\site-packages (from matplotlib->mediapipe) (1.4.2)\n",
      "Requirement already satisfied: pyperclip in c:\\users\\lenovo\\anaconda3\\anaconda\\lib\\site-packages (from mouseinfo->pyautogui) (1.8.2)\n",
      "Requirement already satisfied: pycparser in c:\\users\\lenovo\\anaconda3\\anaconda\\lib\\site-packages (from CFFI>=1.0->sounddevice>=0.4.4->mediapipe) (2.21)\n",
      "Requirement already satisfied: zipp>=0.5 in c:\\users\\lenovo\\anaconda3\\anaconda\\lib\\site-packages (from importlib-metadata>=4.6->jax->mediapipe) (3.8.0)\n",
      "Requirement already satisfied: six>=1.5 in c:\\users\\lenovo\\anaconda3\\anaconda\\lib\\site-packages (from python-dateutil>=2.7->matplotlib->mediapipe) (1.16.0)\n"
     ]
    }
   ],
   "source": [
    "!pip install opencv-contrib-python mediapipe pyautogui"
   ]
  },
  {
   "cell_type": "code",
   "execution_count": 1,
   "id": "50616ac0",
   "metadata": {},
   "outputs": [
    {
     "name": "stdout",
     "output_type": "stream",
     "text": [
      "Packages imported!\n"
     ]
    }
   ],
   "source": [
    "import cv2\n",
    "import mediapipe\n",
    "import pyautogui\n",
    "print(\"Packages imported!\")"
   ]
  },
  {
   "cell_type": "code",
   "execution_count": 2,
   "id": "22c022e3",
   "metadata": {},
   "outputs": [
    {
     "name": "stdout",
     "output_type": "stream",
     "text": [
      "Mouse Clicked\n",
      "Mouse Clicked\n",
      "Mouse Clicked\n",
      "Mouse Clicked\n",
      "Mouse Clicked\n",
      "Mouse Clicked\n",
      "Mouse Clicked\n",
      "Mouse Clicked\n",
      "Mouse Clicked\n",
      "Mouse Clicked\n",
      "Mouse Clicked\n",
      "Mouse Clicked\n"
     ]
    },
    {
     "ename": "KeyboardInterrupt",
     "evalue": "",
     "output_type": "error",
     "traceback": [
      "\u001b[1;31m---------------------------------------------------------------------------\u001b[0m",
      "\u001b[1;31mKeyboardInterrupt\u001b[0m                         Traceback (most recent call last)",
      "\u001b[1;32m~\\AppData\\Local\\Temp\\ipykernel_8512\\616138323.py\u001b[0m in \u001b[0;36m<module>\u001b[1;34m\u001b[0m\n\u001b[0;32m     29\u001b[0m             \u001b[0mcv2\u001b[0m\u001b[1;33m.\u001b[0m\u001b[0mcircle\u001b[0m\u001b[1;33m(\u001b[0m\u001b[0mimg\u001b[0m\u001b[1;33m,\u001b[0m \u001b[1;33m(\u001b[0m\u001b[0mx\u001b[0m\u001b[1;33m,\u001b[0m \u001b[0my\u001b[0m\u001b[1;33m)\u001b[0m\u001b[1;33m,\u001b[0m \u001b[1;36m3\u001b[0m\u001b[1;33m,\u001b[0m \u001b[1;33m(\u001b[0m\u001b[1;36m0\u001b[0m\u001b[1;33m,\u001b[0m \u001b[1;36m255\u001b[0m\u001b[1;33m,\u001b[0m \u001b[1;36m255\u001b[0m\u001b[1;33m)\u001b[0m\u001b[1;33m)\u001b[0m\u001b[1;33m\u001b[0m\u001b[1;33m\u001b[0m\u001b[0m\n\u001b[0;32m     30\u001b[0m         \u001b[1;32mif\u001b[0m\u001b[1;33m(\u001b[0m\u001b[0mleft_eye\u001b[0m\u001b[1;33m[\u001b[0m\u001b[1;36m0\u001b[0m\u001b[1;33m]\u001b[0m\u001b[1;33m.\u001b[0m\u001b[0my\u001b[0m \u001b[1;33m-\u001b[0m \u001b[0mleft_eye\u001b[0m\u001b[1;33m[\u001b[0m\u001b[1;36m1\u001b[0m\u001b[1;33m]\u001b[0m\u001b[1;33m.\u001b[0m\u001b[0my\u001b[0m\u001b[1;33m<\u001b[0m\u001b[1;36m0.01\u001b[0m\u001b[1;33m)\u001b[0m\u001b[1;33m:\u001b[0m\u001b[1;33m\u001b[0m\u001b[1;33m\u001b[0m\u001b[0m\n\u001b[1;32m---> 31\u001b[1;33m             \u001b[0mpyautogui\u001b[0m\u001b[1;33m.\u001b[0m\u001b[0mclick\u001b[0m\u001b[1;33m(\u001b[0m\u001b[1;33m)\u001b[0m\u001b[1;33m\u001b[0m\u001b[1;33m\u001b[0m\u001b[0m\n\u001b[0m\u001b[0;32m     32\u001b[0m             \u001b[0mpyautogui\u001b[0m\u001b[1;33m.\u001b[0m\u001b[0msleep\u001b[0m\u001b[1;33m(\u001b[0m\u001b[1;36m2\u001b[0m\u001b[1;33m)\u001b[0m\u001b[1;33m\u001b[0m\u001b[1;33m\u001b[0m\u001b[0m\n\u001b[0;32m     33\u001b[0m             \u001b[0mprint\u001b[0m\u001b[1;33m(\u001b[0m\u001b[1;34m\"Mouse Clicked\"\u001b[0m\u001b[1;33m)\u001b[0m\u001b[1;33m\u001b[0m\u001b[1;33m\u001b[0m\u001b[0m\n",
      "\u001b[1;32m~\\AppData\\Roaming\\Python\\Python39\\site-packages\\pyautogui\\__init__.py\u001b[0m in \u001b[0;36mwrapper\u001b[1;34m(*args, **kwargs)\u001b[0m\n\u001b[0;32m    593\u001b[0m         \u001b[0mfailSafeCheck\u001b[0m\u001b[1;33m(\u001b[0m\u001b[1;33m)\u001b[0m\u001b[1;33m\u001b[0m\u001b[1;33m\u001b[0m\u001b[0m\n\u001b[0;32m    594\u001b[0m         \u001b[0mreturnVal\u001b[0m \u001b[1;33m=\u001b[0m \u001b[0mwrappedFunction\u001b[0m\u001b[1;33m(\u001b[0m\u001b[1;33m*\u001b[0m\u001b[0margs\u001b[0m\u001b[1;33m,\u001b[0m \u001b[1;33m**\u001b[0m\u001b[0mkwargs\u001b[0m\u001b[1;33m)\u001b[0m\u001b[1;33m\u001b[0m\u001b[1;33m\u001b[0m\u001b[0m\n\u001b[1;32m--> 595\u001b[1;33m         \u001b[0m_handlePause\u001b[0m\u001b[1;33m(\u001b[0m\u001b[0mkwargs\u001b[0m\u001b[1;33m.\u001b[0m\u001b[0mget\u001b[0m\u001b[1;33m(\u001b[0m\u001b[1;34m\"_pause\"\u001b[0m\u001b[1;33m,\u001b[0m \u001b[1;32mTrue\u001b[0m\u001b[1;33m)\u001b[0m\u001b[1;33m)\u001b[0m\u001b[1;33m\u001b[0m\u001b[1;33m\u001b[0m\u001b[0m\n\u001b[0m\u001b[0;32m    596\u001b[0m         \u001b[1;32mreturn\u001b[0m \u001b[0mreturnVal\u001b[0m\u001b[1;33m\u001b[0m\u001b[1;33m\u001b[0m\u001b[0m\n\u001b[0;32m    597\u001b[0m \u001b[1;33m\u001b[0m\u001b[0m\n",
      "\u001b[1;32m~\\AppData\\Roaming\\Python\\Python39\\site-packages\\pyautogui\\__init__.py\u001b[0m in \u001b[0;36m_handlePause\u001b[1;34m(_pause)\u001b[0m\n\u001b[0;32m    637\u001b[0m     \u001b[1;32mif\u001b[0m \u001b[0m_pause\u001b[0m\u001b[1;33m:\u001b[0m\u001b[1;33m\u001b[0m\u001b[1;33m\u001b[0m\u001b[0m\n\u001b[0;32m    638\u001b[0m         \u001b[1;32massert\u001b[0m \u001b[0misinstance\u001b[0m\u001b[1;33m(\u001b[0m\u001b[0mPAUSE\u001b[0m\u001b[1;33m,\u001b[0m \u001b[0mint\u001b[0m\u001b[1;33m)\u001b[0m \u001b[1;32mor\u001b[0m \u001b[0misinstance\u001b[0m\u001b[1;33m(\u001b[0m\u001b[0mPAUSE\u001b[0m\u001b[1;33m,\u001b[0m \u001b[0mfloat\u001b[0m\u001b[1;33m)\u001b[0m\u001b[1;33m\u001b[0m\u001b[1;33m\u001b[0m\u001b[0m\n\u001b[1;32m--> 639\u001b[1;33m         \u001b[0mtime\u001b[0m\u001b[1;33m.\u001b[0m\u001b[0msleep\u001b[0m\u001b[1;33m(\u001b[0m\u001b[0mPAUSE\u001b[0m\u001b[1;33m)\u001b[0m\u001b[1;33m\u001b[0m\u001b[1;33m\u001b[0m\u001b[0m\n\u001b[0m\u001b[0;32m    640\u001b[0m \u001b[1;33m\u001b[0m\u001b[0m\n\u001b[0;32m    641\u001b[0m \u001b[1;33m\u001b[0m\u001b[0m\n",
      "\u001b[1;31mKeyboardInterrupt\u001b[0m: "
     ]
    }
   ],
   "source": [
    "face_mesh_landmarks = mediapipe.solutions.face_mesh.FaceMesh(refine_landmarks=True)\n",
    "cam = cv2.VideoCapture(0)\n",
    "screen_w, screen_h = pyautogui.size()\n",
    "while True:\n",
    "    _, img = cam.read()\n",
    "    img = cv2.flip(img, 1)\n",
    "    window_h, window_w, _ = img.shape\n",
    "    rgb_img = cv2.cvtColor(img, cv2.COLOR_BGR2RGB)\n",
    "    processed_img = face_mesh_landmarks.process(rgb_img)\n",
    "    all_face_landmark_points = processed_img.multi_face_landmarks\n",
    "    #print(all_face_landmark_points)\n",
    "    if all_face_landmark_points:\n",
    "        one_face_landmark_points = all_face_landmark_points[0].landmark\n",
    "        for id, landmark_point in enumerate(one_face_landmark_points[474:478]):\n",
    "            x = int(landmark_point.x * window_w)\n",
    "            y = int(landmark_point.y * window_h)\n",
    "            #print(x, y)\n",
    "            if id == 1:\n",
    "                mouse_x = int(screen_w / window_w * x)\n",
    "                mouse_y = int(screen_h / window_h * y)\n",
    "                pyautogui.moveTo(mouse_x, mouse_y)\n",
    "                \n",
    "            cv2.circle(img, (x, y), 3, (0, 0, 255))\n",
    "        left_eye = [one_face_landmark_points[145], one_face_landmark_points[159]]\n",
    "        for landmark_point in left_eye:\n",
    "            x = int(landmark_point.x * window_w)\n",
    "            y = int(landmark_point.y * window_h)\n",
    "            #print(x, y)\n",
    "            cv2.circle(img, (x, y), 3, (0, 255, 255))\n",
    "        if(left_eye[0].y - left_eye[1].y<0.01):\n",
    "            pyautogui.click()\n",
    "            pyautogui.sleep(2)\n",
    "            print(\"Mouse Clicked\")\n",
    "    cv2.imshow(\"Eye Controlled cursor\", img)\n",
    "    key = cv2.waitKey(100)\n",
    "    if key == 27:\n",
    "        break\n",
    "cam.release()\n",
    "cv2.destroyAllWindows()"
   ]
  },
  {
   "cell_type": "code",
   "execution_count": null,
   "id": "8811edab",
   "metadata": {},
   "outputs": [],
   "source": []
  }
 ],
 "metadata": {
  "kernelspec": {
   "display_name": "Python 3 (ipykernel)",
   "language": "python",
   "name": "python3"
  },
  "language_info": {
   "codemirror_mode": {
    "name": "ipython",
    "version": 3
   },
   "file_extension": ".py",
   "mimetype": "text/x-python",
   "name": "python",
   "nbconvert_exporter": "python",
   "pygments_lexer": "ipython3",
   "version": "3.9.13"
  }
 },
 "nbformat": 4,
 "nbformat_minor": 5
}
